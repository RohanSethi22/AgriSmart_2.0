{
 "cells": [
  {
   "cell_type": "code",
   "execution_count": 1,
   "metadata": {},
   "outputs": [],
   "source": [
    "import numpy as np\n",
    "import pandas as pd"
   ]
  },
  {
   "cell_type": "code",
   "execution_count": 2,
   "metadata": {},
   "outputs": [],
   "source": [
    "d1=pd.read_csv('rice2.csv')\n",
    "d2=pd.read_csv('wheat2.csv')\n",
    "d3=pd.read_csv('cotton(lint)2.csv')\n",
    "d4=pd.read_csv('maize2.csv')\n",
    "d5=pd.read_csv('sugarcane2.csv')\n",
    "d6=pd.read_csv('onion2.csv')"
   ]
  },
  {
   "cell_type": "code",
   "execution_count": 3,
   "metadata": {},
   "outputs": [
    {
     "data": {
      "text/html": [
       "<div>\n",
       "<style scoped>\n",
       "    .dataframe tbody tr th:only-of-type {\n",
       "        vertical-align: middle;\n",
       "    }\n",
       "\n",
       "    .dataframe tbody tr th {\n",
       "        vertical-align: top;\n",
       "    }\n",
       "\n",
       "    .dataframe thead th {\n",
       "        text-align: right;\n",
       "    }\n",
       "</style>\n",
       "<table border=\"1\" class=\"dataframe\">\n",
       "  <thead>\n",
       "    <tr style=\"text-align: right;\">\n",
       "      <th></th>\n",
       "      <th>Area</th>\n",
       "      <th>Labour_hours</th>\n",
       "      <th>Rainfall</th>\n",
       "      <th>Yield</th>\n",
       "      <th>fertilizer</th>\n",
       "    </tr>\n",
       "  </thead>\n",
       "  <tbody>\n",
       "    <tr>\n",
       "      <th>0</th>\n",
       "      <td>349000</td>\n",
       "      <td>183.6</td>\n",
       "      <td>649</td>\n",
       "      <td>3776.504298</td>\n",
       "      <td>0.73</td>\n",
       "    </tr>\n",
       "    <tr>\n",
       "      <th>1</th>\n",
       "      <td>214000</td>\n",
       "      <td>183.6</td>\n",
       "      <td>649</td>\n",
       "      <td>4028.037383</td>\n",
       "      <td>0.73</td>\n",
       "    </tr>\n",
       "    <tr>\n",
       "      <th>2</th>\n",
       "      <td>358000</td>\n",
       "      <td>183.6</td>\n",
       "      <td>649</td>\n",
       "      <td>4854.748603</td>\n",
       "      <td>0.73</td>\n",
       "    </tr>\n",
       "    <tr>\n",
       "      <th>3</th>\n",
       "      <td>361000</td>\n",
       "      <td>183.6</td>\n",
       "      <td>649</td>\n",
       "      <td>4681.440443</td>\n",
       "      <td>0.73</td>\n",
       "    </tr>\n",
       "    <tr>\n",
       "      <th>4</th>\n",
       "      <td>363000</td>\n",
       "      <td>183.6</td>\n",
       "      <td>649</td>\n",
       "      <td>4683.195592</td>\n",
       "      <td>0.73</td>\n",
       "    </tr>\n",
       "    <tr>\n",
       "      <th>...</th>\n",
       "      <td>...</td>\n",
       "      <td>...</td>\n",
       "      <td>...</td>\n",
       "      <td>...</td>\n",
       "      <td>...</td>\n",
       "    </tr>\n",
       "    <tr>\n",
       "      <th>2434</th>\n",
       "      <td>88904</td>\n",
       "      <td>392.9</td>\n",
       "      <td>494</td>\n",
       "      <td>2443.163412</td>\n",
       "      <td>0.67</td>\n",
       "    </tr>\n",
       "    <tr>\n",
       "      <th>2435</th>\n",
       "      <td>79367</td>\n",
       "      <td>392.9</td>\n",
       "      <td>494</td>\n",
       "      <td>2327.327479</td>\n",
       "      <td>0.67</td>\n",
       "    </tr>\n",
       "    <tr>\n",
       "      <th>2436</th>\n",
       "      <td>41115</td>\n",
       "      <td>392.9</td>\n",
       "      <td>494</td>\n",
       "      <td>2107.381734</td>\n",
       "      <td>0.67</td>\n",
       "    </tr>\n",
       "    <tr>\n",
       "      <th>2437</th>\n",
       "      <td>32201</td>\n",
       "      <td>392.9</td>\n",
       "      <td>494</td>\n",
       "      <td>2340.486320</td>\n",
       "      <td>0.67</td>\n",
       "    </tr>\n",
       "    <tr>\n",
       "      <th>2438</th>\n",
       "      <td>55118</td>\n",
       "      <td>392.9</td>\n",
       "      <td>494</td>\n",
       "      <td>2394.245074</td>\n",
       "      <td>0.67</td>\n",
       "    </tr>\n",
       "  </tbody>\n",
       "</table>\n",
       "<p>2439 rows × 5 columns</p>\n",
       "</div>"
      ],
      "text/plain": [
       "        Area  Labour_hours  Rainfall        Yield  fertilizer\n",
       "0     349000         183.6       649  3776.504298        0.73\n",
       "1     214000         183.6       649  4028.037383        0.73\n",
       "2     358000         183.6       649  4854.748603        0.73\n",
       "3     361000         183.6       649  4681.440443        0.73\n",
       "4     363000         183.6       649  4683.195592        0.73\n",
       "...      ...           ...       ...          ...         ...\n",
       "2434   88904         392.9       494  2443.163412        0.67\n",
       "2435   79367         392.9       494  2327.327479        0.67\n",
       "2436   41115         392.9       494  2107.381734        0.67\n",
       "2437   32201         392.9       494  2340.486320        0.67\n",
       "2438   55118         392.9       494  2394.245074        0.67\n",
       "\n",
       "[2439 rows x 5 columns]"
      ]
     },
     "execution_count": 3,
     "metadata": {},
     "output_type": "execute_result"
    }
   ],
   "source": [
    "#wheat\n",
    "d2=d2.drop(['Production'],axis=1)\n",
    "\n",
    "d2['fertilizer'] = (d2['NPK']+d2['MOP'])/2\n",
    "\n",
    "d2=d2.drop(['DAP'],axis=1)\n",
    "d2=d2.drop(['MAP'],axis=1)\n",
    "d2=d2.drop(['MOP'],axis=1)\n",
    "d2=d2.drop(['NPK'],axis=1)\n",
    "d2=d2.drop(['UREA'],axis=1)\n",
    "d2=d2.drop(['TSP'],axis=1)\n",
    "d2"
   ]
  },
  {
   "cell_type": "code",
   "execution_count": 4,
   "metadata": {},
   "outputs": [
    {
     "data": {
      "text/html": [
       "<div>\n",
       "<style scoped>\n",
       "    .dataframe tbody tr th:only-of-type {\n",
       "        vertical-align: middle;\n",
       "    }\n",
       "\n",
       "    .dataframe tbody tr th {\n",
       "        vertical-align: top;\n",
       "    }\n",
       "\n",
       "    .dataframe thead th {\n",
       "        text-align: right;\n",
       "    }\n",
       "</style>\n",
       "<table border=\"1\" class=\"dataframe\">\n",
       "  <thead>\n",
       "    <tr style=\"text-align: right;\">\n",
       "      <th></th>\n",
       "      <th>Area</th>\n",
       "      <th>Labour_hours</th>\n",
       "      <th>Rainfall</th>\n",
       "      <th>Yield</th>\n",
       "      <th>fertilizer</th>\n",
       "    </tr>\n",
       "  </thead>\n",
       "  <tbody>\n",
       "    <tr>\n",
       "      <th>0</th>\n",
       "      <td>292000</td>\n",
       "      <td>419.7</td>\n",
       "      <td>649</td>\n",
       "      <td>3010.273973</td>\n",
       "      <td>0.775</td>\n",
       "    </tr>\n",
       "    <tr>\n",
       "      <th>1</th>\n",
       "      <td>305000</td>\n",
       "      <td>419.7</td>\n",
       "      <td>649</td>\n",
       "      <td>2878.688525</td>\n",
       "      <td>0.775</td>\n",
       "    </tr>\n",
       "    <tr>\n",
       "      <th>2</th>\n",
       "      <td>319000</td>\n",
       "      <td>419.7</td>\n",
       "      <td>649</td>\n",
       "      <td>3106.583072</td>\n",
       "      <td>0.775</td>\n",
       "    </tr>\n",
       "    <tr>\n",
       "      <th>3</th>\n",
       "      <td>319000</td>\n",
       "      <td>419.7</td>\n",
       "      <td>649</td>\n",
       "      <td>3047.021944</td>\n",
       "      <td>0.775</td>\n",
       "    </tr>\n",
       "    <tr>\n",
       "      <th>4</th>\n",
       "      <td>319000</td>\n",
       "      <td>419.7</td>\n",
       "      <td>649</td>\n",
       "      <td>3003.134796</td>\n",
       "      <td>0.775</td>\n",
       "    </tr>\n",
       "    <tr>\n",
       "      <th>...</th>\n",
       "      <td>...</td>\n",
       "      <td>...</td>\n",
       "      <td>...</td>\n",
       "      <td>...</td>\n",
       "      <td>...</td>\n",
       "    </tr>\n",
       "    <tr>\n",
       "      <th>3023</th>\n",
       "      <td>6175</td>\n",
       "      <td>859.5</td>\n",
       "      <td>494</td>\n",
       "      <td>927.125506</td>\n",
       "      <td>0.805</td>\n",
       "    </tr>\n",
       "    <tr>\n",
       "      <th>3024</th>\n",
       "      <td>5759</td>\n",
       "      <td>859.5</td>\n",
       "      <td>494</td>\n",
       "      <td>739.017190</td>\n",
       "      <td>0.805</td>\n",
       "    </tr>\n",
       "    <tr>\n",
       "      <th>3025</th>\n",
       "      <td>3689</td>\n",
       "      <td>859.5</td>\n",
       "      <td>494</td>\n",
       "      <td>545.676335</td>\n",
       "      <td>0.805</td>\n",
       "    </tr>\n",
       "    <tr>\n",
       "      <th>3026</th>\n",
       "      <td>4253</td>\n",
       "      <td>859.5</td>\n",
       "      <td>494</td>\n",
       "      <td>609.922408</td>\n",
       "      <td>0.805</td>\n",
       "    </tr>\n",
       "    <tr>\n",
       "      <th>3027</th>\n",
       "      <td>4881</td>\n",
       "      <td>859.5</td>\n",
       "      <td>494</td>\n",
       "      <td>1079.491907</td>\n",
       "      <td>0.805</td>\n",
       "    </tr>\n",
       "  </tbody>\n",
       "</table>\n",
       "<p>3028 rows × 5 columns</p>\n",
       "</div>"
      ],
      "text/plain": [
       "        Area  Labour_hours  Rainfall        Yield  fertilizer\n",
       "0     292000         419.7       649  3010.273973       0.775\n",
       "1     305000         419.7       649  2878.688525       0.775\n",
       "2     319000         419.7       649  3106.583072       0.775\n",
       "3     319000         419.7       649  3047.021944       0.775\n",
       "4     319000         419.7       649  3003.134796       0.775\n",
       "...      ...           ...       ...          ...         ...\n",
       "3023    6175         859.5       494   927.125506       0.805\n",
       "3024    5759         859.5       494   739.017190       0.805\n",
       "3025    3689         859.5       494   545.676335       0.805\n",
       "3026    4253         859.5       494   609.922408       0.805\n",
       "3027    4881         859.5       494  1079.491907       0.805\n",
       "\n",
       "[3028 rows x 5 columns]"
      ]
     },
     "execution_count": 4,
     "metadata": {},
     "output_type": "execute_result"
    }
   ],
   "source": [
    "#rice\n",
    "\n",
    "#df_new['Rainfall'].value_counts()\n",
    "d1=d1.drop(['Production'],axis=1)\n",
    "\n",
    "d1['fertilizer'] = (d1['DAP'] +d1['MAP'] +d1['MOP'] +d1['NPK'] +d1['UREA'] +d1['TSP'] )/6\n",
    "\n",
    "d1=d1.drop(['DAP'],axis=1)\n",
    "d1=d1.drop(['MAP'],axis=1)\n",
    "d1=d1.drop(['MOP'],axis=1)\n",
    "d1=d1.drop(['NPK'],axis=1)\n",
    "d1=d1.drop(['UREA'],axis=1)\n",
    "d1=d1.drop(['TSP'],axis=1)\n",
    "d1"
   ]
  },
  {
   "cell_type": "code",
   "execution_count": 5,
   "metadata": {},
   "outputs": [
    {
     "data": {
      "text/html": [
       "<div>\n",
       "<style scoped>\n",
       "    .dataframe tbody tr th:only-of-type {\n",
       "        vertical-align: middle;\n",
       "    }\n",
       "\n",
       "    .dataframe tbody tr th {\n",
       "        vertical-align: top;\n",
       "    }\n",
       "\n",
       "    .dataframe thead th {\n",
       "        text-align: right;\n",
       "    }\n",
       "</style>\n",
       "<table border=\"1\" class=\"dataframe\">\n",
       "  <thead>\n",
       "    <tr style=\"text-align: right;\">\n",
       "      <th></th>\n",
       "      <th>Area</th>\n",
       "      <th>Labour_hours</th>\n",
       "      <th>Rainfall</th>\n",
       "      <th>Yield</th>\n",
       "      <th>fertilizer</th>\n",
       "    </tr>\n",
       "  </thead>\n",
       "  <tbody>\n",
       "    <tr>\n",
       "      <th>0</th>\n",
       "      <td>5000</td>\n",
       "      <td>745.3</td>\n",
       "      <td>649</td>\n",
       "      <td>400.000000</td>\n",
       "      <td>0.73</td>\n",
       "    </tr>\n",
       "    <tr>\n",
       "      <th>1</th>\n",
       "      <td>4000</td>\n",
       "      <td>745.3</td>\n",
       "      <td>649</td>\n",
       "      <td>750.000000</td>\n",
       "      <td>0.73</td>\n",
       "    </tr>\n",
       "    <tr>\n",
       "      <th>2</th>\n",
       "      <td>2000</td>\n",
       "      <td>745.3</td>\n",
       "      <td>649</td>\n",
       "      <td>1500.000000</td>\n",
       "      <td>0.73</td>\n",
       "    </tr>\n",
       "    <tr>\n",
       "      <th>3</th>\n",
       "      <td>2000</td>\n",
       "      <td>745.3</td>\n",
       "      <td>649</td>\n",
       "      <td>1000.000000</td>\n",
       "      <td>0.73</td>\n",
       "    </tr>\n",
       "    <tr>\n",
       "      <th>4</th>\n",
       "      <td>2000</td>\n",
       "      <td>745.3</td>\n",
       "      <td>649</td>\n",
       "      <td>1500.000000</td>\n",
       "      <td>0.73</td>\n",
       "    </tr>\n",
       "    <tr>\n",
       "      <th>...</th>\n",
       "      <td>...</td>\n",
       "      <td>...</td>\n",
       "      <td>...</td>\n",
       "      <td>...</td>\n",
       "      <td>...</td>\n",
       "    </tr>\n",
       "    <tr>\n",
       "      <th>1248</th>\n",
       "      <td>168</td>\n",
       "      <td>653.3</td>\n",
       "      <td>494</td>\n",
       "      <td>363.095238</td>\n",
       "      <td>0.67</td>\n",
       "    </tr>\n",
       "    <tr>\n",
       "      <th>1249</th>\n",
       "      <td>260</td>\n",
       "      <td>653.3</td>\n",
       "      <td>494</td>\n",
       "      <td>396.153846</td>\n",
       "      <td>0.67</td>\n",
       "    </tr>\n",
       "    <tr>\n",
       "      <th>1250</th>\n",
       "      <td>581</td>\n",
       "      <td>653.3</td>\n",
       "      <td>494</td>\n",
       "      <td>407.917384</td>\n",
       "      <td>0.67</td>\n",
       "    </tr>\n",
       "    <tr>\n",
       "      <th>1251</th>\n",
       "      <td>756</td>\n",
       "      <td>653.3</td>\n",
       "      <td>494</td>\n",
       "      <td>345.238095</td>\n",
       "      <td>0.67</td>\n",
       "    </tr>\n",
       "    <tr>\n",
       "      <th>1252</th>\n",
       "      <td>973</td>\n",
       "      <td>653.3</td>\n",
       "      <td>494</td>\n",
       "      <td>433.710175</td>\n",
       "      <td>0.67</td>\n",
       "    </tr>\n",
       "  </tbody>\n",
       "</table>\n",
       "<p>1253 rows × 5 columns</p>\n",
       "</div>"
      ],
      "text/plain": [
       "      Area  Labour_hours  Rainfall        Yield  fertilizer\n",
       "0     5000         745.3       649   400.000000        0.73\n",
       "1     4000         745.3       649   750.000000        0.73\n",
       "2     2000         745.3       649  1500.000000        0.73\n",
       "3     2000         745.3       649  1000.000000        0.73\n",
       "4     2000         745.3       649  1500.000000        0.73\n",
       "...    ...           ...       ...          ...         ...\n",
       "1248   168         653.3       494   363.095238        0.67\n",
       "1249   260         653.3       494   396.153846        0.67\n",
       "1250   581         653.3       494   407.917384        0.67\n",
       "1251   756         653.3       494   345.238095        0.67\n",
       "1252   973         653.3       494   433.710175        0.67\n",
       "\n",
       "[1253 rows x 5 columns]"
      ]
     },
     "execution_count": 5,
     "metadata": {},
     "output_type": "execute_result"
    }
   ],
   "source": [
    "#cotton\n",
    "d3=d3.drop(['Production'],axis=1)\n",
    "\n",
    "d3['fertilizer'] = (d3['NPK']+d3['MOP'])/2\n",
    "\n",
    "d3=d3.drop(['DAP'],axis=1)\n",
    "d3=d3.drop(['MAP'],axis=1)\n",
    "d3=d3.drop(['MOP'],axis=1)\n",
    "d3=d3.drop(['NPK'],axis=1)\n",
    "d3=d3.drop(['UREA'],axis=1)\n",
    "d3=d3.drop(['TSP'],axis=1)\n",
    "d3"
   ]
  },
  {
   "cell_type": "code",
   "execution_count": 6,
   "metadata": {},
   "outputs": [
    {
     "data": {
      "text/html": [
       "<div>\n",
       "<style scoped>\n",
       "    .dataframe tbody tr th:only-of-type {\n",
       "        vertical-align: middle;\n",
       "    }\n",
       "\n",
       "    .dataframe tbody tr th {\n",
       "        vertical-align: top;\n",
       "    }\n",
       "\n",
       "    .dataframe thead th {\n",
       "        text-align: right;\n",
       "    }\n",
       "</style>\n",
       "<table border=\"1\" class=\"dataframe\">\n",
       "  <thead>\n",
       "    <tr style=\"text-align: right;\">\n",
       "      <th></th>\n",
       "      <th>Area</th>\n",
       "      <th>Labour_hours</th>\n",
       "      <th>Rainfall</th>\n",
       "      <th>Yield</th>\n",
       "      <th>fertilizer</th>\n",
       "    </tr>\n",
       "  </thead>\n",
       "  <tbody>\n",
       "    <tr>\n",
       "      <th>0</th>\n",
       "      <td>1770</td>\n",
       "      <td>562</td>\n",
       "      <td>1094</td>\n",
       "      <td>18284.745760</td>\n",
       "      <td>1.0</td>\n",
       "    </tr>\n",
       "    <tr>\n",
       "      <th>1</th>\n",
       "      <td>1103</td>\n",
       "      <td>562</td>\n",
       "      <td>1094</td>\n",
       "      <td>14025.385310</td>\n",
       "      <td>1.0</td>\n",
       "    </tr>\n",
       "    <tr>\n",
       "      <th>2</th>\n",
       "      <td>482</td>\n",
       "      <td>562</td>\n",
       "      <td>1094</td>\n",
       "      <td>23887.966800</td>\n",
       "      <td>1.0</td>\n",
       "    </tr>\n",
       "    <tr>\n",
       "      <th>3</th>\n",
       "      <td>1165</td>\n",
       "      <td>562</td>\n",
       "      <td>1094</td>\n",
       "      <td>16508.154510</td>\n",
       "      <td>1.0</td>\n",
       "    </tr>\n",
       "    <tr>\n",
       "      <th>4</th>\n",
       "      <td>380</td>\n",
       "      <td>562</td>\n",
       "      <td>1094</td>\n",
       "      <td>22276.315790</td>\n",
       "      <td>1.0</td>\n",
       "    </tr>\n",
       "    <tr>\n",
       "      <th>...</th>\n",
       "      <td>...</td>\n",
       "      <td>...</td>\n",
       "      <td>...</td>\n",
       "      <td>...</td>\n",
       "      <td>...</td>\n",
       "    </tr>\n",
       "    <tr>\n",
       "      <th>2696</th>\n",
       "      <td>8</td>\n",
       "      <td>562</td>\n",
       "      <td>494</td>\n",
       "      <td>1625.000000</td>\n",
       "      <td>1.0</td>\n",
       "    </tr>\n",
       "    <tr>\n",
       "      <th>2697</th>\n",
       "      <td>29</td>\n",
       "      <td>562</td>\n",
       "      <td>494</td>\n",
       "      <td>1310.344828</td>\n",
       "      <td>1.0</td>\n",
       "    </tr>\n",
       "    <tr>\n",
       "      <th>2698</th>\n",
       "      <td>17</td>\n",
       "      <td>562</td>\n",
       "      <td>494</td>\n",
       "      <td>4588.235294</td>\n",
       "      <td>1.0</td>\n",
       "    </tr>\n",
       "    <tr>\n",
       "      <th>2699</th>\n",
       "      <td>3</td>\n",
       "      <td>562</td>\n",
       "      <td>494</td>\n",
       "      <td>14333.333330</td>\n",
       "      <td>1.0</td>\n",
       "    </tr>\n",
       "    <tr>\n",
       "      <th>2700</th>\n",
       "      <td>15</td>\n",
       "      <td>562</td>\n",
       "      <td>494</td>\n",
       "      <td>2400.000000</td>\n",
       "      <td>1.0</td>\n",
       "    </tr>\n",
       "  </tbody>\n",
       "</table>\n",
       "<p>2701 rows × 5 columns</p>\n",
       "</div>"
      ],
      "text/plain": [
       "      Area  Labour_hours  Rainfall         Yield  fertilizer\n",
       "0     1770           562      1094  18284.745760         1.0\n",
       "1     1103           562      1094  14025.385310         1.0\n",
       "2      482           562      1094  23887.966800         1.0\n",
       "3     1165           562      1094  16508.154510         1.0\n",
       "4      380           562      1094  22276.315790         1.0\n",
       "...    ...           ...       ...           ...         ...\n",
       "2696     8           562       494   1625.000000         1.0\n",
       "2697    29           562       494   1310.344828         1.0\n",
       "2698    17           562       494   4588.235294         1.0\n",
       "2699     3           562       494  14333.333330         1.0\n",
       "2700    15           562       494   2400.000000         1.0\n",
       "\n",
       "[2701 rows x 5 columns]"
      ]
     },
     "execution_count": 6,
     "metadata": {},
     "output_type": "execute_result"
    }
   ],
   "source": [
    "#onion\n",
    "d6=d6.drop(['Production'],axis=1)\n",
    "\n",
    "d6['fertilizer'] = d6['NPK']\n",
    "\n",
    "d6=d6.drop(['DAP'],axis=1)\n",
    "d6=d6.drop(['MAP'],axis=1)\n",
    "d6=d6.drop(['MOP'],axis=1)\n",
    "d6=d6.drop(['NPK'],axis=1)\n",
    "d6=d6.drop(['UREA'],axis=1)\n",
    "d6=d6.drop(['TSP'],axis=1)\n",
    "d6"
   ]
  },
  {
   "cell_type": "code",
   "execution_count": 7,
   "metadata": {},
   "outputs": [
    {
     "data": {
      "text/html": [
       "<div>\n",
       "<style scoped>\n",
       "    .dataframe tbody tr th:only-of-type {\n",
       "        vertical-align: middle;\n",
       "    }\n",
       "\n",
       "    .dataframe tbody tr th {\n",
       "        vertical-align: top;\n",
       "    }\n",
       "\n",
       "    .dataframe thead th {\n",
       "        text-align: right;\n",
       "    }\n",
       "</style>\n",
       "<table border=\"1\" class=\"dataframe\">\n",
       "  <thead>\n",
       "    <tr style=\"text-align: right;\">\n",
       "      <th></th>\n",
       "      <th>Area</th>\n",
       "      <th>Labour_hours</th>\n",
       "      <th>Rainfall</th>\n",
       "      <th>Yield</th>\n",
       "      <th>fertilizer</th>\n",
       "    </tr>\n",
       "  </thead>\n",
       "  <tbody>\n",
       "    <tr>\n",
       "      <th>0</th>\n",
       "      <td>11000</td>\n",
       "      <td>1602.5</td>\n",
       "      <td>649</td>\n",
       "      <td>54545.45455</td>\n",
       "      <td>0.82</td>\n",
       "    </tr>\n",
       "    <tr>\n",
       "      <th>1</th>\n",
       "      <td>9000</td>\n",
       "      <td>1602.5</td>\n",
       "      <td>649</td>\n",
       "      <td>60000.00000</td>\n",
       "      <td>0.82</td>\n",
       "    </tr>\n",
       "    <tr>\n",
       "      <th>2</th>\n",
       "      <td>8000</td>\n",
       "      <td>1602.5</td>\n",
       "      <td>649</td>\n",
       "      <td>66250.00000</td>\n",
       "      <td>0.82</td>\n",
       "    </tr>\n",
       "    <tr>\n",
       "      <th>3</th>\n",
       "      <td>11000</td>\n",
       "      <td>1602.5</td>\n",
       "      <td>649</td>\n",
       "      <td>63636.36364</td>\n",
       "      <td>0.82</td>\n",
       "    </tr>\n",
       "    <tr>\n",
       "      <th>4</th>\n",
       "      <td>11000</td>\n",
       "      <td>1602.5</td>\n",
       "      <td>649</td>\n",
       "      <td>68181.81818</td>\n",
       "      <td>0.82</td>\n",
       "    </tr>\n",
       "    <tr>\n",
       "      <th>...</th>\n",
       "      <td>...</td>\n",
       "      <td>...</td>\n",
       "      <td>...</td>\n",
       "      <td>...</td>\n",
       "      <td>...</td>\n",
       "    </tr>\n",
       "    <tr>\n",
       "      <th>2322</th>\n",
       "      <td>490</td>\n",
       "      <td>1602.5</td>\n",
       "      <td>494</td>\n",
       "      <td>74922.44898</td>\n",
       "      <td>0.78</td>\n",
       "    </tr>\n",
       "    <tr>\n",
       "      <th>2323</th>\n",
       "      <td>671</td>\n",
       "      <td>1602.5</td>\n",
       "      <td>494</td>\n",
       "      <td>78780.92399</td>\n",
       "      <td>0.78</td>\n",
       "    </tr>\n",
       "    <tr>\n",
       "      <th>2324</th>\n",
       "      <td>579</td>\n",
       "      <td>1602.5</td>\n",
       "      <td>494</td>\n",
       "      <td>70115.71675</td>\n",
       "      <td>0.78</td>\n",
       "    </tr>\n",
       "    <tr>\n",
       "      <th>2325</th>\n",
       "      <td>391</td>\n",
       "      <td>1602.5</td>\n",
       "      <td>494</td>\n",
       "      <td>64468.03069</td>\n",
       "      <td>0.78</td>\n",
       "    </tr>\n",
       "    <tr>\n",
       "      <th>2326</th>\n",
       "      <td>293</td>\n",
       "      <td>1602.5</td>\n",
       "      <td>494</td>\n",
       "      <td>57539.24915</td>\n",
       "      <td>0.78</td>\n",
       "    </tr>\n",
       "  </tbody>\n",
       "</table>\n",
       "<p>2327 rows × 5 columns</p>\n",
       "</div>"
      ],
      "text/plain": [
       "       Area  Labour_hours  Rainfall        Yield  fertilizer\n",
       "0     11000        1602.5       649  54545.45455        0.82\n",
       "1      9000        1602.5       649  60000.00000        0.82\n",
       "2      8000        1602.5       649  66250.00000        0.82\n",
       "3     11000        1602.5       649  63636.36364        0.82\n",
       "4     11000        1602.5       649  68181.81818        0.82\n",
       "...     ...           ...       ...          ...         ...\n",
       "2322    490        1602.5       494  74922.44898        0.78\n",
       "2323    671        1602.5       494  78780.92399        0.78\n",
       "2324    579        1602.5       494  70115.71675        0.78\n",
       "2325    391        1602.5       494  64468.03069        0.78\n",
       "2326    293        1602.5       494  57539.24915        0.78\n",
       "\n",
       "[2327 rows x 5 columns]"
      ]
     },
     "execution_count": 7,
     "metadata": {},
     "output_type": "execute_result"
    }
   ],
   "source": [
    "#sugarcane\n",
    "d5=d5.drop(['Production'],axis=1)\n",
    "\n",
    "d5['fertilizer'] = (d5['NPK']+d5['MAP']+d5['MOP'])/3\n",
    "\n",
    "d5=d5.drop(['DAP'],axis=1)\n",
    "d5=d5.drop(['MAP'],axis=1)\n",
    "d5=d5.drop(['MOP'],axis=1)\n",
    "d5=d5.drop(['NPK'],axis=1)\n",
    "d5=d5.drop(['UREA'],axis=1)\n",
    "d5=d5.drop(['TSP'],axis=1)\n",
    "d5"
   ]
  },
  {
   "cell_type": "code",
   "execution_count": 8,
   "metadata": {},
   "outputs": [
    {
     "data": {
      "text/html": [
       "<div>\n",
       "<style scoped>\n",
       "    .dataframe tbody tr th:only-of-type {\n",
       "        vertical-align: middle;\n",
       "    }\n",
       "\n",
       "    .dataframe tbody tr th {\n",
       "        vertical-align: top;\n",
       "    }\n",
       "\n",
       "    .dataframe thead th {\n",
       "        text-align: right;\n",
       "    }\n",
       "</style>\n",
       "<table border=\"1\" class=\"dataframe\">\n",
       "  <thead>\n",
       "    <tr style=\"text-align: right;\">\n",
       "      <th></th>\n",
       "      <th>Area</th>\n",
       "      <th>Labour_hours</th>\n",
       "      <th>Rainfall</th>\n",
       "      <th>Yield</th>\n",
       "      <th>fertilizer</th>\n",
       "    </tr>\n",
       "  </thead>\n",
       "  <tbody>\n",
       "    <tr>\n",
       "      <th>0</th>\n",
       "      <td>7000</td>\n",
       "      <td>480.0</td>\n",
       "      <td>649</td>\n",
       "      <td>2000.000000</td>\n",
       "      <td>0.82</td>\n",
       "    </tr>\n",
       "    <tr>\n",
       "      <th>1</th>\n",
       "      <td>6000</td>\n",
       "      <td>480.0</td>\n",
       "      <td>649</td>\n",
       "      <td>2333.333333</td>\n",
       "      <td>0.82</td>\n",
       "    </tr>\n",
       "    <tr>\n",
       "      <th>2</th>\n",
       "      <td>5000</td>\n",
       "      <td>480.0</td>\n",
       "      <td>649</td>\n",
       "      <td>2400.000000</td>\n",
       "      <td>0.82</td>\n",
       "    </tr>\n",
       "    <tr>\n",
       "      <th>3</th>\n",
       "      <td>5000</td>\n",
       "      <td>480.0</td>\n",
       "      <td>649</td>\n",
       "      <td>2200.000000</td>\n",
       "      <td>0.82</td>\n",
       "    </tr>\n",
       "    <tr>\n",
       "      <th>4</th>\n",
       "      <td>5000</td>\n",
       "      <td>480.0</td>\n",
       "      <td>649</td>\n",
       "      <td>2400.000000</td>\n",
       "      <td>0.82</td>\n",
       "    </tr>\n",
       "    <tr>\n",
       "      <th>...</th>\n",
       "      <td>...</td>\n",
       "      <td>...</td>\n",
       "      <td>...</td>\n",
       "      <td>...</td>\n",
       "      <td>...</td>\n",
       "    </tr>\n",
       "    <tr>\n",
       "      <th>3778</th>\n",
       "      <td>188466</td>\n",
       "      <td>1040.0</td>\n",
       "      <td>494</td>\n",
       "      <td>795.146074</td>\n",
       "      <td>0.78</td>\n",
       "    </tr>\n",
       "    <tr>\n",
       "      <th>3779</th>\n",
       "      <td>193466</td>\n",
       "      <td>1040.0</td>\n",
       "      <td>494</td>\n",
       "      <td>1841.196903</td>\n",
       "      <td>0.78</td>\n",
       "    </tr>\n",
       "    <tr>\n",
       "      <th>3780</th>\n",
       "      <td>173614</td>\n",
       "      <td>1040.0</td>\n",
       "      <td>494</td>\n",
       "      <td>1375.528471</td>\n",
       "      <td>0.78</td>\n",
       "    </tr>\n",
       "    <tr>\n",
       "      <th>3781</th>\n",
       "      <td>179262</td>\n",
       "      <td>1040.0</td>\n",
       "      <td>494</td>\n",
       "      <td>939.228615</td>\n",
       "      <td>0.78</td>\n",
       "    </tr>\n",
       "    <tr>\n",
       "      <th>3782</th>\n",
       "      <td>179380</td>\n",
       "      <td>1040.0</td>\n",
       "      <td>494</td>\n",
       "      <td>1368.396700</td>\n",
       "      <td>0.78</td>\n",
       "    </tr>\n",
       "  </tbody>\n",
       "</table>\n",
       "<p>3783 rows × 5 columns</p>\n",
       "</div>"
      ],
      "text/plain": [
       "        Area  Labour_hours  Rainfall        Yield  fertilizer\n",
       "0       7000         480.0       649  2000.000000        0.82\n",
       "1       6000         480.0       649  2333.333333        0.82\n",
       "2       5000         480.0       649  2400.000000        0.82\n",
       "3       5000         480.0       649  2200.000000        0.82\n",
       "4       5000         480.0       649  2400.000000        0.82\n",
       "...      ...           ...       ...          ...         ...\n",
       "3778  188466        1040.0       494   795.146074        0.78\n",
       "3779  193466        1040.0       494  1841.196903        0.78\n",
       "3780  173614        1040.0       494  1375.528471        0.78\n",
       "3781  179262        1040.0       494   939.228615        0.78\n",
       "3782  179380        1040.0       494  1368.396700        0.78\n",
       "\n",
       "[3783 rows x 5 columns]"
      ]
     },
     "execution_count": 8,
     "metadata": {},
     "output_type": "execute_result"
    }
   ],
   "source": [
    "#maize\n",
    "d4=d4.drop(['Production'],axis=1)\n",
    "d4['fertilizer'] = (d4['NPK']+d4['TSP']+d4['MOP'])/3\n",
    "\n",
    "d4=d4.drop(['DAP'],axis=1)\n",
    "d4=d4.drop(['MAP'],axis=1)\n",
    "d4=d4.drop(['MOP'],axis=1)\n",
    "d4=d4.drop(['NPK'],axis=1)\n",
    "d4=d4.drop(['UREA'],axis=1)\n",
    "d4=d4.drop(['TSP'],axis=1)\n",
    "d4"
   ]
  },
  {
   "cell_type": "code",
   "execution_count": 13,
   "metadata": {},
   "outputs": [
    {
     "data": {
      "text/html": [
       "<div>\n",
       "<style scoped>\n",
       "    .dataframe tbody tr th:only-of-type {\n",
       "        vertical-align: middle;\n",
       "    }\n",
       "\n",
       "    .dataframe tbody tr th {\n",
       "        vertical-align: top;\n",
       "    }\n",
       "\n",
       "    .dataframe thead th {\n",
       "        text-align: right;\n",
       "    }\n",
       "</style>\n",
       "<table border=\"1\" class=\"dataframe\">\n",
       "  <thead>\n",
       "    <tr style=\"text-align: right;\">\n",
       "      <th></th>\n",
       "      <th>Area</th>\n",
       "      <th>Labour_hours</th>\n",
       "      <th>Rainfall</th>\n",
       "      <th>Yield</th>\n",
       "      <th>fertilizer</th>\n",
       "    </tr>\n",
       "  </thead>\n",
       "  <tbody>\n",
       "    <tr>\n",
       "      <th>0</th>\n",
       "      <td>292000</td>\n",
       "      <td>419.7</td>\n",
       "      <td>649</td>\n",
       "      <td>3010.273973</td>\n",
       "      <td>0.775</td>\n",
       "    </tr>\n",
       "    <tr>\n",
       "      <th>1</th>\n",
       "      <td>305000</td>\n",
       "      <td>419.7</td>\n",
       "      <td>649</td>\n",
       "      <td>2878.688525</td>\n",
       "      <td>0.775</td>\n",
       "    </tr>\n",
       "    <tr>\n",
       "      <th>2</th>\n",
       "      <td>319000</td>\n",
       "      <td>419.7</td>\n",
       "      <td>649</td>\n",
       "      <td>3106.583072</td>\n",
       "      <td>0.775</td>\n",
       "    </tr>\n",
       "    <tr>\n",
       "      <th>3</th>\n",
       "      <td>319000</td>\n",
       "      <td>419.7</td>\n",
       "      <td>649</td>\n",
       "      <td>3047.021944</td>\n",
       "      <td>0.775</td>\n",
       "    </tr>\n",
       "    <tr>\n",
       "      <th>4</th>\n",
       "      <td>319000</td>\n",
       "      <td>419.7</td>\n",
       "      <td>649</td>\n",
       "      <td>3003.134796</td>\n",
       "      <td>0.775</td>\n",
       "    </tr>\n",
       "    <tr>\n",
       "      <th>...</th>\n",
       "      <td>...</td>\n",
       "      <td>...</td>\n",
       "      <td>...</td>\n",
       "      <td>...</td>\n",
       "      <td>...</td>\n",
       "    </tr>\n",
       "    <tr>\n",
       "      <th>2696</th>\n",
       "      <td>8</td>\n",
       "      <td>562.0</td>\n",
       "      <td>494</td>\n",
       "      <td>1625.000000</td>\n",
       "      <td>1.000</td>\n",
       "    </tr>\n",
       "    <tr>\n",
       "      <th>2697</th>\n",
       "      <td>29</td>\n",
       "      <td>562.0</td>\n",
       "      <td>494</td>\n",
       "      <td>1310.344828</td>\n",
       "      <td>1.000</td>\n",
       "    </tr>\n",
       "    <tr>\n",
       "      <th>2698</th>\n",
       "      <td>17</td>\n",
       "      <td>562.0</td>\n",
       "      <td>494</td>\n",
       "      <td>4588.235294</td>\n",
       "      <td>1.000</td>\n",
       "    </tr>\n",
       "    <tr>\n",
       "      <th>2699</th>\n",
       "      <td>3</td>\n",
       "      <td>562.0</td>\n",
       "      <td>494</td>\n",
       "      <td>14333.333330</td>\n",
       "      <td>1.000</td>\n",
       "    </tr>\n",
       "    <tr>\n",
       "      <th>2700</th>\n",
       "      <td>15</td>\n",
       "      <td>562.0</td>\n",
       "      <td>494</td>\n",
       "      <td>2400.000000</td>\n",
       "      <td>1.000</td>\n",
       "    </tr>\n",
       "  </tbody>\n",
       "</table>\n",
       "<p>15531 rows × 5 columns</p>\n",
       "</div>"
      ],
      "text/plain": [
       "        Area  Labour_hours  Rainfall         Yield  fertilizer\n",
       "0     292000         419.7       649   3010.273973       0.775\n",
       "1     305000         419.7       649   2878.688525       0.775\n",
       "2     319000         419.7       649   3106.583072       0.775\n",
       "3     319000         419.7       649   3047.021944       0.775\n",
       "4     319000         419.7       649   3003.134796       0.775\n",
       "...      ...           ...       ...           ...         ...\n",
       "2696       8         562.0       494   1625.000000       1.000\n",
       "2697      29         562.0       494   1310.344828       1.000\n",
       "2698      17         562.0       494   4588.235294       1.000\n",
       "2699       3         562.0       494  14333.333330       1.000\n",
       "2700      15         562.0       494   2400.000000       1.000\n",
       "\n",
       "[15531 rows x 5 columns]"
      ]
     },
     "execution_count": 13,
     "metadata": {},
     "output_type": "execute_result"
    }
   ],
   "source": [
    "frames = [d1, d2, d3, d4, d5, d6]\n",
    "\n",
    "d = pd.concat(frames)\n",
    "d"
   ]
  },
  {
   "cell_type": "code",
   "execution_count": 25,
   "metadata": {},
   "outputs": [
    {
     "name": "stdout",
     "output_type": "stream",
     "text": [
      "        Area  Labour_hours  Rainfall        Yield  fertilizer\n",
      "2099       1         422.0       617     0.000000    0.750000\n",
      "1012       1         859.5       494  2000.000000    0.695000\n",
      "2756       1         467.2       494  2000.000000    0.730000\n",
      "1480       1         859.5       494  2000.000000    0.695000\n",
      "960        1         859.5       494  2000.000000    0.695000\n",
      "...      ...           ...       ...          ...         ...\n",
      "180   400000         419.7       649  2860.000000    0.775000\n",
      "311   401000         183.6       649  4319.201995    0.730000\n",
      "818   409286         824.4      1094  3968.677160    0.933333\n",
      "174   413000         183.6       649  4414.043584    0.730000\n",
      "83    422000         183.6       649  3973.933649    0.730000\n",
      "\n",
      "[15531 rows x 5 columns]\n"
     ]
    },
    {
     "data": {
      "image/png": "[encoded data removed]",
      "text/plain": [
       "<Figure size 432x288 with 1 Axes>"
      ]
     },
     "metadata": {},
     "output_type": "display_data"
    }
   ],
   "source": [
    "d=d.sort_values(by=['Area'])\n",
    "print(d)\n",
    "#d.plot(x='Yield', y='Area')\n",
    "plt.plot(d['Area'], d['Yield'],linewidth=2.0)\n",
    "plt.show() "
   ]
  },
  {
   "cell_type": "code",
   "execution_count": 118,
   "metadata": {},
   "outputs": [
    {
     "data": {
      "image/png": "[encoded data removed]",
      "text/plain": [
       "<Figure size 432x288 with 1 Axes>"
      ]
     },
     "metadata": {},
     "output_type": "display_data"
    }
   ],
   "source": [
    "import matplotlib.pyplot as plt\n",
    "plt.scatter(d['Area'], d['Yield'])\n",
    "plt.show() "
   ]
  },
  {
   "cell_type": "code",
   "execution_count": 21,
   "metadata": {},
   "outputs": [
    {
     "name": "stdout",
     "output_type": "stream",
     "text": [
      "      Area  Labour_hours  Rainfall        Yield  fertilizer\n",
      "2099     1         422.0       617         0.00        0.75\n",
      "3270    98         480.0       617         0.00        0.64\n",
      "672     98         833.3       617         0.00        0.46\n",
      "3252    94         480.0       617         0.00        0.64\n",
      "2500     2         562.0       494         0.00        1.00\n",
      "...    ...           ...       ...          ...         ...\n",
      "190      3        1602.5       649  74666666.67        0.82\n",
      "38       2        1602.5       649  75500000.00        0.82\n",
      "123      2        1602.5       649  80500000.00        0.82\n",
      "209      2        1602.5       649  81500000.00        0.82\n",
      "176      3        1602.5       649  88000000.00        0.82\n",
      "\n",
      "[15531 rows x 5 columns]\n"
     ]
    },
    {
     "data": {
      "image/png": "[encoded data removed]",
      "text/plain": [
       "<Figure size 432x288 with 1 Axes>"
      ]
     },
     "metadata": {},
     "output_type": "display_data"
    }
   ],
   "source": [
    "import matplotlib.pyplot as plt\n",
    "d.sort_values(by=['Labour_hours'])\n",
    "print(d)\n",
    "plt.plot(d['Labour_hours'], d['Yield'],linewidth=2.0)\n",
    "plt.show() "
   ]
  },
  {
   "cell_type": "code",
   "execution_count": 27,
   "metadata": {},
   "outputs": [
    {
     "data": {
      "image/png": "[encoded data removed]",
      "text/plain": [
       "<Figure size 432x288 with 1 Axes>"
      ]
     },
     "metadata": {},
     "output_type": "display_data"
    }
   ],
   "source": [
    "import matplotlib.pyplot as plt\n",
    "d.sort_values(by=['fertilizer'])\n",
    "plt.plot(d['fertilizer'], d['Yield'],linewidth=2.0)\n",
    "plt.show() \n",
    "#plt.scatter(d['fertilizer'], d['Yield'])\n",
    "#plt.show() "
   ]
  },
  {
   "cell_type": "code",
   "execution_count": 41,
   "metadata": {},
   "outputs": [
    {
     "data": {
      "image/png": "[encoded data removed]",
      "text/plain": [
       "<Figure size 432x288 with 1 Axes>"
      ]
     },
     "metadata": {},
     "output_type": "display_data"
    }
   ],
   "source": [
    "import matplotlib.pyplot as plt\n",
    "plt.scatter(d['Rainfall'], d['Yield'])\n",
    "plt.show() "
   ]
  },
  {
   "cell_type": "code",
   "execution_count": 42,
   "metadata": {},
   "outputs": [],
   "source": [
    "#rslt_d = d.loc[d['Percentage'] > 80] \n",
    "d['Labour_hours'].value_counts()\n",
    "\n",
    "l_hours=[467.2,\n",
    "859.5,\n",
    "422.0,\n",
    "1276.6,\n",
    "481.8,\n",
    "1602.5,\n",
    "392.9,\n",
    "562.0,\n",
    "833.3,\n",
    "824.4,\n",
    "1004.2,\n",
    "1040.0,\n",
    "653.3,\n",
    "480.0,\n",
    "183.6,\n",
    "419.7,\n",
    "745.3]\n",
    "\n",
    "l_count=[2549,\n",
    "2209,\n",
    "1930,\n",
    "1276,\n",
    "1275,\n",
    "1051,\n",
    "826,\n",
    "771,\n",
    "670,\n",
    "481,\n",
    "456,\n",
    "411,\n",
    "397,\n",
    "367,\n",
    "338,\n",
    "338,\n",
    "186]\n",
    "\n",
    "\n",
    "#d.loc[d['Labour_hours'] == 1, 'Yield'].sum()"
   ]
  },
  {
   "cell_type": "code",
   "execution_count": 43,
   "metadata": {},
   "outputs": [],
   "source": [
    "d_l = pd.DataFrame(columns=('Labour_hours', 'Yield'))\n",
    "index=0\n",
    "for i in range(17):    \n",
    "    x=(d.loc[d['Labour_hours'] == l_hours[i], 'Yield'].sum())/l_count[i]\n",
    "    d_l.loc[i] = [l_hours[i],x]"
   ]
  },
  {
   "cell_type": "code",
   "execution_count": null,
   "metadata": {},
   "outputs": [],
   "source": []
  },
  {
   "cell_type": "code",
   "execution_count": 44,
   "metadata": {},
   "outputs": [
    {
     "data": {
      "image/png": "[encoded data removed]",
      "text/plain": [
       "<Figure size 432x288 with 1 Axes>"
      ]
     },
     "metadata": {},
     "output_type": "display_data"
    }
   ],
   "source": [
    "d_l\n",
    "plt.scatter(d_l['Labour_hours'], d_l['Yield'])\n",
    "plt.show() \n",
    "\n"
   ]
  },
  {
   "cell_type": "code",
   "execution_count": 45,
   "metadata": {},
   "outputs": [
    {
     "data": {
      "text/html": [
       "<div>\n",
       "<style scoped>\n",
       "    .dataframe tbody tr th:only-of-type {\n",
       "        vertical-align: middle;\n",
       "    }\n",
       "\n",
       "    .dataframe tbody tr th {\n",
       "        vertical-align: top;\n",
       "    }\n",
       "\n",
       "    .dataframe thead th {\n",
       "        text-align: right;\n",
       "    }\n",
       "</style>\n",
       "<table border=\"1\" class=\"dataframe\">\n",
       "  <thead>\n",
       "    <tr style=\"text-align: right;\">\n",
       "      <th></th>\n",
       "      <th>Labour_hours</th>\n",
       "      <th>Yield</th>\n",
       "    </tr>\n",
       "  </thead>\n",
       "  <tbody>\n",
       "    <tr>\n",
       "      <th>0</th>\n",
       "      <td>467.2</td>\n",
       "      <td>1.649652e+03</td>\n",
       "    </tr>\n",
       "    <tr>\n",
       "      <th>1</th>\n",
       "      <td>859.5</td>\n",
       "      <td>2.087676e+03</td>\n",
       "    </tr>\n",
       "    <tr>\n",
       "      <th>2</th>\n",
       "      <td>422.0</td>\n",
       "      <td>1.599317e+04</td>\n",
       "    </tr>\n",
       "    <tr>\n",
       "      <th>3</th>\n",
       "      <td>1276.6</td>\n",
       "      <td>5.242683e+04</td>\n",
       "    </tr>\n",
       "    <tr>\n",
       "      <th>4</th>\n",
       "      <td>481.8</td>\n",
       "      <td>2.762904e+03</td>\n",
       "    </tr>\n",
       "    <tr>\n",
       "      <th>5</th>\n",
       "      <td>1602.5</td>\n",
       "      <td>1.076785e+06</td>\n",
       "    </tr>\n",
       "    <tr>\n",
       "      <th>6</th>\n",
       "      <td>392.9</td>\n",
       "      <td>3.024879e+03</td>\n",
       "    </tr>\n",
       "    <tr>\n",
       "      <th>7</th>\n",
       "      <td>562.0</td>\n",
       "      <td>1.040473e+04</td>\n",
       "    </tr>\n",
       "    <tr>\n",
       "      <th>8</th>\n",
       "      <td>833.3</td>\n",
       "      <td>1.612971e+03</td>\n",
       "    </tr>\n",
       "    <tr>\n",
       "      <th>9</th>\n",
       "      <td>824.4</td>\n",
       "      <td>2.924943e+03</td>\n",
       "    </tr>\n",
       "    <tr>\n",
       "      <th>10</th>\n",
       "      <td>1004.2</td>\n",
       "      <td>4.833393e+03</td>\n",
       "    </tr>\n",
       "    <tr>\n",
       "      <th>11</th>\n",
       "      <td>1040.0</td>\n",
       "      <td>1.270050e+03</td>\n",
       "    </tr>\n",
       "    <tr>\n",
       "      <th>12</th>\n",
       "      <td>653.3</td>\n",
       "      <td>9.035843e+02</td>\n",
       "    </tr>\n",
       "    <tr>\n",
       "      <th>13</th>\n",
       "      <td>480.0</td>\n",
       "      <td>2.552704e+03</td>\n",
       "    </tr>\n",
       "    <tr>\n",
       "      <th>14</th>\n",
       "      <td>183.6</td>\n",
       "      <td>4.421239e+03</td>\n",
       "    </tr>\n",
       "    <tr>\n",
       "      <th>15</th>\n",
       "      <td>419.7</td>\n",
       "      <td>3.705338e+03</td>\n",
       "    </tr>\n",
       "    <tr>\n",
       "      <th>16</th>\n",
       "      <td>745.3</td>\n",
       "      <td>3.000477e+03</td>\n",
       "    </tr>\n",
       "  </tbody>\n",
       "</table>\n",
       "</div>"
      ],
      "text/plain": [
       "    Labour_hours         Yield\n",
       "0          467.2  1.649652e+03\n",
       "1          859.5  2.087676e+03\n",
       "2          422.0  1.599317e+04\n",
       "3         1276.6  5.242683e+04\n",
       "4          481.8  2.762904e+03\n",
       "5         1602.5  1.076785e+06\n",
       "6          392.9  3.024879e+03\n",
       "7          562.0  1.040473e+04\n",
       "8          833.3  1.612971e+03\n",
       "9          824.4  2.924943e+03\n",
       "10        1004.2  4.833393e+03\n",
       "11        1040.0  1.270050e+03\n",
       "12         653.3  9.035843e+02\n",
       "13         480.0  2.552704e+03\n",
       "14         183.6  4.421239e+03\n",
       "15         419.7  3.705338e+03\n",
       "16         745.3  3.000477e+03"
      ]
     },
     "execution_count": 45,
     "metadata": {},
     "output_type": "execute_result"
    }
   ],
   "source": [
    "d_l\n"
   ]
  },
  {
   "cell_type": "code",
   "execution_count": 46,
   "metadata": {},
   "outputs": [
    {
     "data": {
      "text/plain": [
       "467.2     2549\n",
       "859.5     2209\n",
       "422.0     1930\n",
       "1276.6    1276\n",
       "481.8     1275\n",
       "1602.5    1051\n",
       "392.9      826\n",
       "562.0      771\n",
       "833.3      670\n",
       "824.4      481\n",
       "1004.2     456\n",
       "1040.0     411\n",
       "653.3      397\n",
       "480.0      367\n",
       "183.6      338\n",
       "419.7      338\n",
       "745.3      186\n",
       "Name: Labour_hours, dtype: int64"
      ]
     },
     "execution_count": 46,
     "metadata": {},
     "output_type": "execute_result"
    }
   ],
   "source": [
    "d['Labour_hours'].value_counts()"
   ]
  },
  {
   "cell_type": "code",
   "execution_count": 47,
   "metadata": {},
   "outputs": [
    {
     "data": {
      "text/html": [
       "<div>\n",
       "<style scoped>\n",
       "    .dataframe tbody tr th:only-of-type {\n",
       "        vertical-align: middle;\n",
       "    }\n",
       "\n",
       "    .dataframe tbody tr th {\n",
       "        vertical-align: top;\n",
       "    }\n",
       "\n",
       "    .dataframe thead th {\n",
       "        text-align: right;\n",
       "    }\n",
       "</style>\n",
       "<table border=\"1\" class=\"dataframe\">\n",
       "  <thead>\n",
       "    <tr style=\"text-align: right;\">\n",
       "      <th></th>\n",
       "      <th>Area</th>\n",
       "      <th>Labour_hours</th>\n",
       "      <th>Rainfall</th>\n",
       "      <th>Yield</th>\n",
       "      <th>fertilizer</th>\n",
       "    </tr>\n",
       "  </thead>\n",
       "  <tbody>\n",
       "    <tr>\n",
       "      <th>0</th>\n",
       "      <td>292000</td>\n",
       "      <td>419.7</td>\n",
       "      <td>649</td>\n",
       "      <td>3010.273973</td>\n",
       "      <td>0.775</td>\n",
       "    </tr>\n",
       "    <tr>\n",
       "      <th>1</th>\n",
       "      <td>305000</td>\n",
       "      <td>419.7</td>\n",
       "      <td>649</td>\n",
       "      <td>2878.688525</td>\n",
       "      <td>0.775</td>\n",
       "    </tr>\n",
       "    <tr>\n",
       "      <th>2</th>\n",
       "      <td>319000</td>\n",
       "      <td>419.7</td>\n",
       "      <td>649</td>\n",
       "      <td>3106.583072</td>\n",
       "      <td>0.775</td>\n",
       "    </tr>\n",
       "    <tr>\n",
       "      <th>3</th>\n",
       "      <td>319000</td>\n",
       "      <td>419.7</td>\n",
       "      <td>649</td>\n",
       "      <td>3047.021944</td>\n",
       "      <td>0.775</td>\n",
       "    </tr>\n",
       "    <tr>\n",
       "      <th>4</th>\n",
       "      <td>319000</td>\n",
       "      <td>419.7</td>\n",
       "      <td>649</td>\n",
       "      <td>3003.134796</td>\n",
       "      <td>0.775</td>\n",
       "    </tr>\n",
       "    <tr>\n",
       "      <th>...</th>\n",
       "      <td>...</td>\n",
       "      <td>...</td>\n",
       "      <td>...</td>\n",
       "      <td>...</td>\n",
       "      <td>...</td>\n",
       "    </tr>\n",
       "    <tr>\n",
       "      <th>3023</th>\n",
       "      <td>6175</td>\n",
       "      <td>859.5</td>\n",
       "      <td>494</td>\n",
       "      <td>927.125506</td>\n",
       "      <td>0.805</td>\n",
       "    </tr>\n",
       "    <tr>\n",
       "      <th>3024</th>\n",
       "      <td>5759</td>\n",
       "      <td>859.5</td>\n",
       "      <td>494</td>\n",
       "      <td>739.017190</td>\n",
       "      <td>0.805</td>\n",
       "    </tr>\n",
       "    <tr>\n",
       "      <th>3025</th>\n",
       "      <td>3689</td>\n",
       "      <td>859.5</td>\n",
       "      <td>494</td>\n",
       "      <td>545.676335</td>\n",
       "      <td>0.805</td>\n",
       "    </tr>\n",
       "    <tr>\n",
       "      <th>3026</th>\n",
       "      <td>4253</td>\n",
       "      <td>859.5</td>\n",
       "      <td>494</td>\n",
       "      <td>609.922408</td>\n",
       "      <td>0.805</td>\n",
       "    </tr>\n",
       "    <tr>\n",
       "      <th>3027</th>\n",
       "      <td>4881</td>\n",
       "      <td>859.5</td>\n",
       "      <td>494</td>\n",
       "      <td>1079.491907</td>\n",
       "      <td>0.805</td>\n",
       "    </tr>\n",
       "  </tbody>\n",
       "</table>\n",
       "<p>3028 rows × 5 columns</p>\n",
       "</div>"
      ],
      "text/plain": [
       "        Area  Labour_hours  Rainfall        Yield  fertilizer\n",
       "0     292000         419.7       649  3010.273973       0.775\n",
       "1     305000         419.7       649  2878.688525       0.775\n",
       "2     319000         419.7       649  3106.583072       0.775\n",
       "3     319000         419.7       649  3047.021944       0.775\n",
       "4     319000         419.7       649  3003.134796       0.775\n",
       "...      ...           ...       ...          ...         ...\n",
       "3023    6175         859.5       494   927.125506       0.805\n",
       "3024    5759         859.5       494   739.017190       0.805\n",
       "3025    3689         859.5       494   545.676335       0.805\n",
       "3026    4253         859.5       494   609.922408       0.805\n",
       "3027    4881         859.5       494  1079.491907       0.805\n",
       "\n",
       "[3028 rows x 5 columns]"
      ]
     },
     "execution_count": 47,
     "metadata": {},
     "output_type": "execute_result"
    }
   ],
   "source": [
    "d1"
   ]
  },
  {
   "cell_type": "code",
   "execution_count": 61,
   "metadata": {},
   "outputs": [
    {
     "data": {
      "text/plain": [
       "494     1909\n",
       "1094     481\n",
       "649      338\n",
       "617      300\n",
       "Name: Rainfall, dtype: int64"
      ]
     },
     "execution_count": 61,
     "metadata": {},
     "output_type": "execute_result"
    }
   ],
   "source": [
    "d1['Labour_hours'].value_counts()\n",
    "d1['fertilizer'].value_counts()\n",
    "d1['Rainfall'].value_counts()"
   ]
  },
  {
   "cell_type": "code",
   "execution_count": 62,
   "metadata": {},
   "outputs": [],
   "source": [
    "l_hours_d1=[419.7,824.4,859.5]\n",
    "l_count_d1=[338,481,2209]\n",
    "\n",
    "f_d1=[0.695000,0.721667,0.775000,0.805000,0.933333]\n",
    "f_count_d1=[1611,300,338,298,481]\n",
    "\n",
    "r_d1=[494,617,649,1094]\n",
    "r_count_d1=[1909,300,338,481]"
   ]
  },
  {
   "cell_type": "code",
   "execution_count": 60,
   "metadata": {},
   "outputs": [
    {
     "data": {
      "image/png": "[encoded data removed]",
      "text/plain": [
       "<Figure size 432x288 with 1 Axes>"
      ]
     },
     "metadata": {},
     "output_type": "display_data"
    }
   ],
   "source": [
    "d1_l = pd.DataFrame(columns=('Labour_hours', 'Yield'))\n",
    "index=0\n",
    "for i in range(3):    \n",
    "    x=(d1.loc[d1['Labour_hours'] == l_hours_d1[i], 'Yield'].sum())/l_count_d1[i]\n",
    "    d1_l.loc[i] = [l_hours_d1[i],x]\n",
    "\n",
    "plt.plot(d1_l['Labour_hours'], d1_l['Yield'],linewidth=2.0)\n",
    "plt.show() "
   ]
  },
  {
   "cell_type": "code",
   "execution_count": 59,
   "metadata": {},
   "outputs": [
    {
     "data": {
      "image/png": "[encoded data removed]",
      "text/plain": [
       "<Figure size 432x288 with 1 Axes>"
      ]
     },
     "metadata": {},
     "output_type": "display_data"
    }
   ],
   "source": [
    "d1_f = pd.DataFrame(columns=('fertilizer', 'Yield'))\n",
    "index=0\n",
    "for i in range(5):    \n",
    "    x=(d1.loc[d1['fertilizer'] == f_d1[i], 'Yield'].sum())/f_count_d1[i]\n",
    "    d1_f.loc[i] = [f_d1[i],x]\n",
    "\n",
    "plt.plot(d1_f['fertilizer'], d1_f['Yield'],linewidth=2.0)\n",
    "plt.show() "
   ]
  },
  {
   "cell_type": "code",
   "execution_count": 97,
   "metadata": {},
   "outputs": [
    {
     "data": {
      "image/png": "[encoded data removed]",
      "text/plain": [
       "<Figure size 432x288 with 1 Axes>"
      ]
     },
     "metadata": {},
     "output_type": "display_data"
    }
   ],
   "source": [
    "d1_r = pd.DataFrame(columns=('Rainfall', 'Yield'))\n",
    "index=0\n",
    "for i in range(4):    \n",
    "    x=(d1.loc[d1['Rainfall'] == r_d1[i], 'Yield'].sum())/r_count_d1[i]\n",
    "    d1_r.loc[i] = [r_d1[i],x]\n",
    "\n",
    "plt.plot(d1_r['Rainfall'], d1_r['Yield'],linewidth=2.0)\n",
    "plt.show() "
   ]
  },
  {
   "cell_type": "code",
   "execution_count": null,
   "metadata": {},
   "outputs": [],
   "source": []
  },
  {
   "cell_type": "code",
   "execution_count": 74,
   "metadata": {},
   "outputs": [
    {
     "data": {
      "text/plain": [
       "494     1726\n",
       "649      338\n",
       "617      317\n",
       "1094      58\n",
       "Name: Rainfall, dtype: int64"
      ]
     },
     "execution_count": 74,
     "metadata": {},
     "output_type": "execute_result"
    }
   ],
   "source": [
    "d2['Labour_hours'].value_counts()\n",
    "d2['fertilizer'].value_counts()\n",
    "d2['Rainfall'].value_counts()"
   ]
  },
  {
   "cell_type": "code",
   "execution_count": 67,
   "metadata": {},
   "outputs": [],
   "source": [
    "l_hours_d2=[183.6,392.9,481.8]\n",
    "l_count_d2=[338,826,1275]\n",
    "\n",
    "f_d2=[0.460,0.595,0.670,0.730,1.000]\n",
    "f_count_d2=[317,1275,451,338,58]\n",
    "\n",
    "r_d2=[494,617,649,1094]\n",
    "r_count_d2=[1726,317,338,58]"
   ]
  },
  {
   "cell_type": "code",
   "execution_count": 68,
   "metadata": {},
   "outputs": [
    {
     "data": {
      "image/png": "[encoded data removed]",
      "text/plain": [
       "<Figure size 432x288 with 1 Axes>"
      ]
     },
     "metadata": {},
     "output_type": "display_data"
    }
   ],
   "source": [
    "d2_l = pd.DataFrame(columns=('Labour_hours', 'Yield'))\n",
    "index=0\n",
    "for i in range(3):    \n",
    "    x=(d2.loc[d2['Labour_hours'] == l_hours_d2[i], 'Yield'].sum())/l_count_d2[i]\n",
    "    d2_l.loc[i] = [l_hours_d2[i],x]\n",
    "\n",
    "plt.plot(d2_l['Labour_hours'], d2_l['Yield'],linewidth=2.0)\n",
    "plt.show() "
   ]
  },
  {
   "cell_type": "code",
   "execution_count": 69,
   "metadata": {},
   "outputs": [
    {
     "data": {
      "image/png": "[encoded data removed]",
      "text/plain": [
       "<Figure size 432x288 with 1 Axes>"
      ]
     },
     "metadata": {},
     "output_type": "display_data"
    }
   ],
   "source": [
    "d2_f = pd.DataFrame(columns=('fertilizer', 'Yield'))\n",
    "index=0\n",
    "for i in range(5):    \n",
    "    x=(d2.loc[d2['fertilizer'] == f_d2[i], 'Yield'].sum())/f_count_d2[i]\n",
    "    d2_f.loc[i] = [f_d2[i],x]\n",
    "\n",
    "plt.plot(d2_f['fertilizer'], d2_f['Yield'],linewidth=2.0)\n",
    "plt.show() "
   ]
  },
  {
   "cell_type": "code",
   "execution_count": 98,
   "metadata": {},
   "outputs": [
    {
     "data": {
      "image/png": "[encoded data removed]",
      "text/plain": [
       "<Figure size 432x288 with 1 Axes>"
      ]
     },
     "metadata": {},
     "output_type": "display_data"
    }
   ],
   "source": [
    "d2_r = pd.DataFrame(columns=('Rainfall', 'Yield'))\n",
    "index=0\n",
    "for i in range(4):    \n",
    "    x=(d2.loc[d2['Rainfall'] == r_d2[i], 'Yield'].sum())/r_count_d2[i]\n",
    "    d2_r.loc[i] = [r_d2[i],x]\n",
    "\n",
    "plt.plot(d2_r['Rainfall'], d2_r['Yield'],linewidth=2.0)\n",
    "plt.show() "
   ]
  },
  {
   "cell_type": "code",
   "execution_count": null,
   "metadata": {},
   "outputs": [],
   "source": []
  },
  {
   "cell_type": "code",
   "execution_count": 75,
   "metadata": {},
   "outputs": [
    {
     "data": {
      "text/plain": [
       "494     618\n",
       "1094    245\n",
       "617     204\n",
       "649     186\n",
       "Name: Rainfall, dtype: int64"
      ]
     },
     "execution_count": 75,
     "metadata": {},
     "output_type": "execute_result"
    }
   ],
   "source": [
    "d3['Labour_hours'].value_counts()\n",
    "d3['fertilizer'].value_counts()\n",
    "d3['Rainfall'].value_counts()"
   ]
  },
  {
   "cell_type": "code",
   "execution_count": 77,
   "metadata": {},
   "outputs": [],
   "source": [
    "l_hours_d3=[653.3,745.3,833.3]\n",
    "l_count_d3=[397,186,670]\n",
    "\n",
    "f_d3=[0.460,0.595,0.670,0.730,1.000]\n",
    "f_count_d3=[204,221,397,186,245]\n",
    "\n",
    "r_d3=[494,617,649,1094]\n",
    "r_count_d3=[618,204,186,245]"
   ]
  },
  {
   "cell_type": "code",
   "execution_count": 78,
   "metadata": {},
   "outputs": [
    {
     "data": {
      "image/png": "[encoded data removed]",
      "text/plain": [
       "<Figure size 432x288 with 1 Axes>"
      ]
     },
     "metadata": {},
     "output_type": "display_data"
    }
   ],
   "source": [
    "d3_l = pd.DataFrame(columns=('Labour_hours', 'Yield'))\n",
    "index=0\n",
    "for i in range(3):    \n",
    "    x=(d3.loc[d3['Labour_hours'] == l_hours_d3[i], 'Yield'].sum())/l_count_d3[i]\n",
    "    d3_l.loc[i] = [l_hours_d3[i],x]\n",
    "\n",
    "plt.plot(d3_l['Labour_hours'], d3_l['Yield'],linewidth=2.0)\n",
    "plt.show() "
   ]
  },
  {
   "cell_type": "code",
   "execution_count": 79,
   "metadata": {},
   "outputs": [
    {
     "data": {
      "image/png": "[encoded data removed]",
      "text/plain": [
       "<Figure size 432x288 with 1 Axes>"
      ]
     },
     "metadata": {},
     "output_type": "display_data"
    }
   ],
   "source": [
    "d3_f = pd.DataFrame(columns=('fertilizer', 'Yield'))\n",
    "index=0\n",
    "for i in range(5):    \n",
    "    x=(d3.loc[d3['fertilizer'] == f_d3[i], 'Yield'].sum())/f_count_d3[i]\n",
    "    d3_f.loc[i] = [f_d3[i],x]\n",
    "\n",
    "plt.plot(d3_f['fertilizer'], d3_f['Yield'],linewidth=2.0)\n",
    "plt.show() "
   ]
  },
  {
   "cell_type": "code",
   "execution_count": 99,
   "metadata": {},
   "outputs": [
    {
     "data": {
      "image/png": "[encoded data removed]",
      "text/plain": [
       "<Figure size 432x288 with 1 Axes>"
      ]
     },
     "metadata": {},
     "output_type": "display_data"
    }
   ],
   "source": [
    "d3_r = pd.DataFrame(columns=('Rainfall', 'Yield'))\n",
    "index=0\n",
    "for i in range(4):    \n",
    "    x=(d3.loc[d3['Rainfall'] == r_d3[i], 'Yield'].sum())/r_count_d3[i]\n",
    "    d3_r.loc[i] = [r_d3[i],x]\n",
    "\n",
    "plt.plot(d3_r['Rainfall'], d3_r['Yield'],linewidth=2.0)\n",
    "plt.show() "
   ]
  },
  {
   "cell_type": "code",
   "execution_count": null,
   "metadata": {},
   "outputs": [],
   "source": []
  },
  {
   "cell_type": "code",
   "execution_count": 83,
   "metadata": {},
   "outputs": [
    {
     "data": {
      "text/plain": [
       "494     2960\n",
       "1094     456\n",
       "649      219\n",
       "617      148\n",
       "Name: Rainfall, dtype: int64"
      ]
     },
     "execution_count": 83,
     "metadata": {},
     "output_type": "execute_result"
    }
   ],
   "source": [
    "d4['Labour_hours'].value_counts()\n",
    "d4['fertilizer'].value_counts()\n",
    "d4['Rainfall'].value_counts()"
   ]
  },
  {
   "cell_type": "code",
   "execution_count": 86,
   "metadata": {},
   "outputs": [],
   "source": [
    "l_hours_d4=[467.2,480.0,1004.2,1040.0]\n",
    "l_count_d4=[2549,367,456,411]\n",
    "\n",
    "f_d4=[0.64,0.73,0.78,0.82,1.00]\n",
    "f_count_d4=[148,2549,411,219,456]\n",
    "\n",
    "r_d4=[494,617,649,1094]\n",
    "r_count_d4=[2960,148,219,456]"
   ]
  },
  {
   "cell_type": "code",
   "execution_count": 100,
   "metadata": {},
   "outputs": [
    {
     "data": {
      "image/png": "[encoded data removed]",
      "text/plain": [
       "<Figure size 432x288 with 1 Axes>"
      ]
     },
     "metadata": {},
     "output_type": "display_data"
    }
   ],
   "source": [
    "d4_l = pd.DataFrame(columns=('Labour_hours', 'Yield'))\n",
    "index=0\n",
    "for i in range(4):    \n",
    "    x=(d4.loc[d4['Labour_hours'] == l_hours_d4[i], 'Yield'].sum())/l_count_d4[i]\n",
    "    d4_l.loc[i] = [l_hours_d4[i],x]\n",
    "\n",
    "plt.plot(d4_l['Labour_hours'], d4_l['Yield'],linewidth=2.0)\n",
    "plt.show() "
   ]
  },
  {
   "cell_type": "code",
   "execution_count": 88,
   "metadata": {},
   "outputs": [
    {
     "data": {
      "image/png": "[encoded data removed]",
      "text/plain": [
       "<Figure size 432x288 with 1 Axes>"
      ]
     },
     "metadata": {},
     "output_type": "display_data"
    }
   ],
   "source": [
    "d4_f = pd.DataFrame(columns=('fertilizer', 'Yield'))\n",
    "index=0\n",
    "for i in range(5):    \n",
    "    x=(d4.loc[d4['fertilizer'] == f_d4[i], 'Yield'].sum())/f_count_d4[i]\n",
    "    d4_f.loc[i] = [f_d4[i],x]\n",
    "\n",
    "plt.plot(d4_f['fertilizer'], d4_f['Yield'],linewidth=2.0)\n",
    "plt.show() "
   ]
  },
  {
   "cell_type": "code",
   "execution_count": 101,
   "metadata": {},
   "outputs": [
    {
     "data": {
      "image/png": "[encoded data removed]",
      "text/plain": [
       "<Figure size 432x288 with 1 Axes>"
      ]
     },
     "metadata": {},
     "output_type": "display_data"
    }
   ],
   "source": [
    "d4_r = pd.DataFrame(columns=('Rainfall', 'Yield'))\n",
    "index=0\n",
    "for i in range(4):    \n",
    "    x=(d4.loc[d4['Rainfall'] == r_d4[i], 'Yield'].sum())/r_count_d4[i]\n",
    "    d4_r.loc[i] = [r_d4[i],x]\n",
    "\n",
    "plt.plot(d4_r['Rainfall'], d4_r['Yield'],linewidth=2.0)\n",
    "plt.show() "
   ]
  },
  {
   "cell_type": "code",
   "execution_count": null,
   "metadata": {},
   "outputs": [],
   "source": []
  },
  {
   "cell_type": "code",
   "execution_count": 93,
   "metadata": {},
   "outputs": [
    {
     "data": {
      "text/plain": [
       "494     1620\n",
       "617      259\n",
       "1094     232\n",
       "649      216\n",
       "Name: Rainfall, dtype: int64"
      ]
     },
     "execution_count": 93,
     "metadata": {},
     "output_type": "execute_result"
    }
   ],
   "source": [
    "d5['Labour_hours'].value_counts()\n",
    "d5['fertilizer'].value_counts()\n",
    "d5['Rainfall'].value_counts()"
   ]
  },
  {
   "cell_type": "code",
   "execution_count": 95,
   "metadata": {},
   "outputs": [],
   "source": [
    "l_hours_d5=[1276.6,1602.5]\n",
    "l_count_d5=[1276,1051]\n",
    "\n",
    "f_d5=[0.64,0.73,0.78,0.82,1.00]\n",
    "f_count_d5=[259,1276,344,216,232]\n",
    "\n",
    "r_d5=[494,617,649,1094]\n",
    "r_count_d5=[1620,259,216,232]"
   ]
  },
  {
   "cell_type": "code",
   "execution_count": 102,
   "metadata": {},
   "outputs": [
    {
     "data": {
      "image/png": "[encoded data removed]",
      "text/plain": [
       "<Figure size 432x288 with 1 Axes>"
      ]
     },
     "metadata": {},
     "output_type": "display_data"
    }
   ],
   "source": [
    "d5_l = pd.DataFrame(columns=('Labour_hours', 'Yield'))\n",
    "index=0\n",
    "for i in range(2):    \n",
    "    x=(d5.loc[d5['Labour_hours'] == l_hours_d5[i], 'Yield'].sum())/l_count_d5[i]\n",
    "    d5_l.loc[i] = [l_hours_d5[i],x]\n",
    "\n",
    "plt.plot(d5_l['Labour_hours'], d5_l['Yield'],linewidth=2.0)\n",
    "plt.show() "
   ]
  },
  {
   "cell_type": "code",
   "execution_count": 103,
   "metadata": {},
   "outputs": [
    {
     "data": {
      "image/png": "[encoded data removed]",
      "text/plain": [
       "<Figure size 432x288 with 1 Axes>"
      ]
     },
     "metadata": {},
     "output_type": "display_data"
    }
   ],
   "source": [
    "d5_f = pd.DataFrame(columns=('fertilizer', 'Yield'))\n",
    "index=0\n",
    "for i in range(5):    \n",
    "    x=(d5.loc[d5['fertilizer'] == f_d5[i], 'Yield'].sum())/f_count_d5[i]\n",
    "    d5_f.loc[i] = [f_d5[i],x]\n",
    "\n",
    "plt.plot(d5_f['fertilizer'], d5_f['Yield'],linewidth=2.0)\n",
    "plt.show() "
   ]
  },
  {
   "cell_type": "code",
   "execution_count": 104,
   "metadata": {},
   "outputs": [
    {
     "data": {
      "image/png": "[encoded data removed]",
      "text/plain": [
       "<Figure size 432x288 with 1 Axes>"
      ]
     },
     "metadata": {},
     "output_type": "display_data"
    }
   ],
   "source": [
    "d5_r = pd.DataFrame(columns=('Rainfall', 'Yield'))\n",
    "index=0\n",
    "for i in range(4):    \n",
    "    x=(d5.loc[d5['Rainfall'] == r_d5[i], 'Yield'].sum())/r_count_d5[i]\n",
    "    d5_r.loc[i] = [r_d5[i],x]\n",
    "\n",
    "plt.plot(d5_r['Rainfall'], d5_r['Yield'],linewidth=2.0)\n",
    "plt.show() "
   ]
  },
  {
   "cell_type": "code",
   "execution_count": null,
   "metadata": {},
   "outputs": [],
   "source": []
  },
  {
   "cell_type": "code",
   "execution_count": 110,
   "metadata": {},
   "outputs": [
    {
     "data": {
      "text/plain": [
       "494     2161\n",
       "1094     346\n",
       "617      194\n",
       "Name: Rainfall, dtype: int64"
      ]
     },
     "execution_count": 110,
     "metadata": {},
     "output_type": "execute_result"
    }
   ],
   "source": [
    "d6['Labour_hours'].value_counts()\n",
    "d6['fertilizer'].value_counts()\n",
    "d6['Rainfall'].value_counts()"
   ]
  },
  {
   "cell_type": "code",
   "execution_count": 113,
   "metadata": {},
   "outputs": [],
   "source": [
    "l_hours_d6=[422,562]\n",
    "l_count_d6=[1930,771]\n",
    "\n",
    "f_d6=[0.75,1]\n",
    "f_count_d6=[194,2507]\n",
    "\n",
    "r_d6=[494,617,1094]\n",
    "r_count_d6=[2161,194,346]"
   ]
  },
  {
   "cell_type": "code",
   "execution_count": 114,
   "metadata": {},
   "outputs": [
    {
     "data": {
      "image/png": "[encoded data removed]",
      "text/plain": [
       "<Figure size 432x288 with 1 Axes>"
      ]
     },
     "metadata": {},
     "output_type": "display_data"
    }
   ],
   "source": [
    "d6_l = pd.DataFrame(columns=('Labour_hours', 'Yield'))\n",
    "index=0\n",
    "for i in range(2):    \n",
    "    x=(d6.loc[d6['Labour_hours'] == l_hours_d6[i], 'Yield'].sum())/l_count_d6[i]\n",
    "    d6_l.loc[i] = [l_hours_d6[i],x]\n",
    "\n",
    "plt.plot(d6_l['Labour_hours'], d6_l['Yield'],linewidth=2.0)\n",
    "plt.show() "
   ]
  },
  {
   "cell_type": "code",
   "execution_count": 115,
   "metadata": {},
   "outputs": [
    {
     "data": {
      "image/png": "[encoded data removed]",
      "text/plain": [
       "<Figure size 432x288 with 1 Axes>"
      ]
     },
     "metadata": {},
     "output_type": "display_data"
    }
   ],
   "source": [
    "d6_f = pd.DataFrame(columns=('fertilizer', 'Yield'))\n",
    "index=0\n",
    "for i in range(2):    \n",
    "    x=(d6.loc[d6['fertilizer'] == f_d6[i], 'Yield'].sum())/f_count_d6[i]\n",
    "    d6_f.loc[i] = [f_d6[i],x]\n",
    "\n",
    "plt.plot(d6_f['fertilizer'], d6_f['Yield'],linewidth=2.0)\n",
    "plt.show() "
   ]
  },
  {
   "cell_type": "code",
   "execution_count": 116,
   "metadata": {
    "scrolled": true
   },
   "outputs": [
    {
     "data": {
      "image/png": "[encoded data removed]",
      "text/plain": [
       "<Figure size 432x288 with 1 Axes>"
      ]
     },
     "metadata": {},
     "output_type": "display_data"
    }
   ],
   "source": [
    "d6_r = pd.DataFrame(columns=('Rainfall', 'Yield'))\n",
    "index=0\n",
    "for i in range(3):    \n",
    "    x=(d6.loc[d6['Rainfall'] == r_d6[i], 'Yield'].sum())/r_count_d6[i]\n",
    "    d6_r.loc[i] = [r_d6[i],x]\n",
    "\n",
    "plt.plot(d6_r['Rainfall'], d6_r['Yield'],linewidth=2.0)\n",
    "plt.show() "
   ]
  },
  {
   "cell_type": "code",
   "execution_count": null,
   "metadata": {},
   "outputs": [],
   "source": []
  }
 ],
 "metadata": {
  "kernelspec": {
   "display_name": "Python 3",
   "language": "python",
   "name": "python3"
  },
  "language_info": {
   "codemirror_mode": {
    "name": "ipython",
    "version": 3
   },
   "file_extension": ".py",
   "mimetype": "text/x-python",
   "name": "python",
   "nbconvert_exporter": "python",
   "pygments_lexer": "ipython3",
   "version": "3.6.5"
  }
 },
 "nbformat": 4,
 "nbformat_minor": 2
}
