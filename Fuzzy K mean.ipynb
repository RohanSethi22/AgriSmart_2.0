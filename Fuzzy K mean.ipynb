{
 "cells": [
  {
   "cell_type": "code",
   "execution_count": 2,
   "metadata": {},
   "outputs": [
    {
     "name": "stdout",
     "output_type": "stream",
     "text": [
      "\n",
      "The following command must be run outside of the IPython shell:\n",
      "\n",
      "    $ pip install sklearn-extensions\n",
      "\n",
      "The Python package manager (pip) can only be used from outside of IPython.\n",
      "Please reissue the `pip` command in a separate terminal or command prompt.\n",
      "\n",
      "See the Python documentation for more information on how to install packages:\n",
      "\n",
      "    https://docs.python.org/3/installing/\n"
     ]
    }
   ],
   "source": []
  },
  {
   "cell_type": "code",
   "execution_count": 14,
   "metadata": {},
   "outputs": [
    {
     "name": "stdout",
     "output_type": "stream",
     "text": [
      "     x    y\n",
      "0   84   70\n",
      "1   17   93\n",
      "2   84  100\n",
      "3   81   17\n",
      "4   78   63\n",
      "5   47   72\n",
      "6   60   74\n",
      "7   25   39\n",
      "8   78   96\n",
      "9   24   46\n",
      "10  61   92\n",
      "11  67   56\n",
      "12  11   21\n",
      "13   3   79\n",
      "14  76   71\n",
      "15  36   55\n",
      "16  66   87\n",
      "17  78   15\n",
      "18  44   77\n",
      "19  71   69\n",
      "[[24.6811918  44.97253344]\n",
      " [73.78982577 61.32177648]\n",
      " [60.27101412 84.09834128]]\n"
     ]
    },
    {
     "data": {
      "text/plain": [
       "<matplotlib.collections.PathCollection at 0x260e7b8eba8>"
      ]
     },
     "execution_count": 14,
     "metadata": {},
     "output_type": "execute_result"
    },
    {
     "data": {
      "image/png": "[encoded data removed]",
      "text/plain": [
       "<Figure size 432x288 with 1 Axes>"
      ]
     },
     "metadata": {},
     "output_type": "display_data"
    }
   ],
   "source": [
    "from sklearn_extensions.fuzzy_kmeans import KMedians, FuzzyKMeans, KMeans\n",
    "import numpy as np\n",
    "import matplotlib.pyplot as plt\n",
    "import pandas as pd\n",
    "\n",
    "# Importing the dataset\n",
    "dataset = pd.read_csv('random.csv')\n",
    "\n",
    "#printing dataset\n",
    "print(dataset)\n",
    "\n",
    "X=dataset.values\n",
    "\n",
    "fuzzy_kmeans = FuzzyKMeans(k=3, m=2)\n",
    "fuzzy_kmeans.fit(X)\n",
    "\n",
    "print(fuzzy_kmeans.cluster_centers_)\n",
    "\n",
    "plt.scatter(fuzzy_kmeans.cluster_centers_[:,0],fuzzy_kmeans.cluster_centers_[:,1],s=300,c='yellow',label='Centroids')\n",
    "\n",
    "plt.scatter(X[:,0],X[:,1])\n"
   ]
  },
  {
   "cell_type": "code",
   "execution_count": null,
   "metadata": {},
   "outputs": [],
   "source": []
  },
  {
   "cell_type": "code",
   "execution_count": null,
   "metadata": {},
   "outputs": [],
   "source": [
    "Note that a medoid is not equivalent to a median\n",
    "\n"
   ]
  }
 ],
 "metadata": {
  "kernelspec": {
   "display_name": "Python 3",
   "language": "python",
   "name": "python3"
  },
  "language_info": {
   "codemirror_mode": {
    "name": "ipython",
    "version": 3
   },
   "file_extension": ".py",
   "mimetype": "text/x-python",
   "name": "python",
   "nbconvert_exporter": "python",
   "pygments_lexer": "ipython3",
   "version": "3.6.5"
  }
 },
 "nbformat": 4,
 "nbformat_minor": 2
}
